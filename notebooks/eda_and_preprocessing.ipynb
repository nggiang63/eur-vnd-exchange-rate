{
 "cells": [
  {
   "cell_type": "markdown",
   "metadata": {},
   "source": [
    "# **Thư viện**"
   ]
  },
  {
   "cell_type": "code",
   "execution_count": 66,
   "metadata": {},
   "outputs": [],
   "source": [
    "import pandas as pd\n",
    "import matplotlib.pyplot as plt\n",
    "import seaborn as sns\n",
    "\n",
    "from sklearn.preprocessing import MinMaxScaler"
   ]
  },
  {
   "cell_type": "markdown",
   "metadata": {},
   "source": [
    "# **Dữ liệu**"
   ]
  },
  {
   "cell_type": "code",
   "execution_count": 67,
   "metadata": {},
   "outputs": [
    {
     "data": {
      "text/html": [
       "<div>\n",
       "<style scoped>\n",
       "    .dataframe tbody tr th:only-of-type {\n",
       "        vertical-align: middle;\n",
       "    }\n",
       "\n",
       "    .dataframe tbody tr th {\n",
       "        vertical-align: top;\n",
       "    }\n",
       "\n",
       "    .dataframe thead th {\n",
       "        text-align: right;\n",
       "    }\n",
       "</style>\n",
       "<table border=\"1\" class=\"dataframe\">\n",
       "  <thead>\n",
       "    <tr style=\"text-align: right;\">\n",
       "      <th></th>\n",
       "      <th>timestamp</th>\n",
       "      <th>open</th>\n",
       "      <th>high</th>\n",
       "      <th>low</th>\n",
       "      <th>close</th>\n",
       "    </tr>\n",
       "  </thead>\n",
       "  <tbody>\n",
       "    <tr>\n",
       "      <th>2603</th>\n",
       "      <td>2015-04-02</td>\n",
       "      <td>22956.0</td>\n",
       "      <td>22956.0</td>\n",
       "      <td>22956.0</td>\n",
       "      <td>22956.0</td>\n",
       "    </tr>\n",
       "    <tr>\n",
       "      <th>2602</th>\n",
       "      <td>2015-04-05</td>\n",
       "      <td>22956.0</td>\n",
       "      <td>22956.0</td>\n",
       "      <td>22956.0</td>\n",
       "      <td>22956.0</td>\n",
       "    </tr>\n",
       "    <tr>\n",
       "      <th>2601</th>\n",
       "      <td>2015-04-06</td>\n",
       "      <td>22956.0</td>\n",
       "      <td>23060.0</td>\n",
       "      <td>22956.0</td>\n",
       "      <td>22956.0</td>\n",
       "    </tr>\n",
       "    <tr>\n",
       "      <th>2600</th>\n",
       "      <td>2015-04-07</td>\n",
       "      <td>23060.0</td>\n",
       "      <td>23088.0</td>\n",
       "      <td>23060.0</td>\n",
       "      <td>23060.0</td>\n",
       "    </tr>\n",
       "    <tr>\n",
       "      <th>2599</th>\n",
       "      <td>2015-04-08</td>\n",
       "      <td>23088.0</td>\n",
       "      <td>23088.0</td>\n",
       "      <td>22854.0</td>\n",
       "      <td>23088.0</td>\n",
       "    </tr>\n",
       "  </tbody>\n",
       "</table>\n",
       "</div>"
      ],
      "text/plain": [
       "       timestamp     open     high      low    close\n",
       "2603  2015-04-02  22956.0  22956.0  22956.0  22956.0\n",
       "2602  2015-04-05  22956.0  22956.0  22956.0  22956.0\n",
       "2601  2015-04-06  22956.0  23060.0  22956.0  22956.0\n",
       "2600  2015-04-07  23060.0  23088.0  23060.0  23060.0\n",
       "2599  2015-04-08  23088.0  23088.0  22854.0  23088.0"
      ]
     },
     "execution_count": 67,
     "metadata": {},
     "output_type": "execute_result"
    }
   ],
   "source": [
    "df = pd.read_csv(\"../data/raw/EUR_VND_Exchange_Rate.csv\")[::-1]\n",
    "df.head()"
   ]
  },
  {
   "cell_type": "markdown",
   "metadata": {},
   "source": [
    "# **`timestamp` thành index**"
   ]
  },
  {
   "cell_type": "code",
   "execution_count": 68,
   "metadata": {},
   "outputs": [
    {
     "data": {
      "text/html": [
       "<div>\n",
       "<style scoped>\n",
       "    .dataframe tbody tr th:only-of-type {\n",
       "        vertical-align: middle;\n",
       "    }\n",
       "\n",
       "    .dataframe tbody tr th {\n",
       "        vertical-align: top;\n",
       "    }\n",
       "\n",
       "    .dataframe thead th {\n",
       "        text-align: right;\n",
       "    }\n",
       "</style>\n",
       "<table border=\"1\" class=\"dataframe\">\n",
       "  <thead>\n",
       "    <tr style=\"text-align: right;\">\n",
       "      <th></th>\n",
       "      <th>open</th>\n",
       "      <th>high</th>\n",
       "      <th>low</th>\n",
       "      <th>close</th>\n",
       "    </tr>\n",
       "    <tr>\n",
       "      <th>timestamp</th>\n",
       "      <th></th>\n",
       "      <th></th>\n",
       "      <th></th>\n",
       "      <th></th>\n",
       "    </tr>\n",
       "  </thead>\n",
       "  <tbody>\n",
       "    <tr>\n",
       "      <th>2015-04-02</th>\n",
       "      <td>22956.0</td>\n",
       "      <td>22956.0</td>\n",
       "      <td>22956.0</td>\n",
       "      <td>22956.0</td>\n",
       "    </tr>\n",
       "    <tr>\n",
       "      <th>2015-04-05</th>\n",
       "      <td>22956.0</td>\n",
       "      <td>22956.0</td>\n",
       "      <td>22956.0</td>\n",
       "      <td>22956.0</td>\n",
       "    </tr>\n",
       "    <tr>\n",
       "      <th>2015-04-06</th>\n",
       "      <td>22956.0</td>\n",
       "      <td>23060.0</td>\n",
       "      <td>22956.0</td>\n",
       "      <td>22956.0</td>\n",
       "    </tr>\n",
       "    <tr>\n",
       "      <th>2015-04-07</th>\n",
       "      <td>23060.0</td>\n",
       "      <td>23088.0</td>\n",
       "      <td>23060.0</td>\n",
       "      <td>23060.0</td>\n",
       "    </tr>\n",
       "    <tr>\n",
       "      <th>2015-04-08</th>\n",
       "      <td>23088.0</td>\n",
       "      <td>23088.0</td>\n",
       "      <td>22854.0</td>\n",
       "      <td>23088.0</td>\n",
       "    </tr>\n",
       "  </tbody>\n",
       "</table>\n",
       "</div>"
      ],
      "text/plain": [
       "               open     high      low    close\n",
       "timestamp                                     \n",
       "2015-04-02  22956.0  22956.0  22956.0  22956.0\n",
       "2015-04-05  22956.0  22956.0  22956.0  22956.0\n",
       "2015-04-06  22956.0  23060.0  22956.0  22956.0\n",
       "2015-04-07  23060.0  23088.0  23060.0  23060.0\n",
       "2015-04-08  23088.0  23088.0  22854.0  23088.0"
      ]
     },
     "execution_count": 68,
     "metadata": {},
     "output_type": "execute_result"
    }
   ],
   "source": [
    "df['timestamp'] = pd.to_datetime(df['timestamp'])\n",
    "\n",
    "df = df.set_index('timestamp')\n",
    "\n",
    "df.head()"
   ]
  },
  {
   "cell_type": "markdown",
   "metadata": {},
   "source": [
    "# **Trống, thiếu?**"
   ]
  },
  {
   "cell_type": "markdown",
   "metadata": {},
   "source": [
    "**Trống**"
   ]
  },
  {
   "cell_type": "code",
   "execution_count": 69,
   "metadata": {},
   "outputs": [
    {
     "name": "stdout",
     "output_type": "stream",
     "text": [
      "Số lượng giá trị trống trong mỗi cột:\n",
      " open     0\n",
      "high     0\n",
      "low      0\n",
      "close    0\n",
      "dtype: int64\n"
     ]
    }
   ],
   "source": [
    "missing_values = df.isnull().sum()\n",
    "print(\"Số lượng giá trị trống trong mỗi cột:\\n\", missing_values)"
   ]
  },
  {
   "cell_type": "markdown",
   "metadata": {},
   "source": [
    "**Những ngày thiếu**"
   ]
  },
  {
   "cell_type": "code",
   "execution_count": 70,
   "metadata": {},
   "outputs": [
    {
     "name": "stdout",
     "output_type": "stream",
     "text": [
      "Các ngày bị thiếu trong dữ liệu:\n",
      "['2015-04-01', '2015-04-03', '2015-04-04', '2015-04-10', '2015-04-11', '2015-04-17', '2015-04-18', '2015-04-24', '2015-04-25', '2015-05-01', '2015-05-02', '2015-05-08', '2015-05-09', '2015-05-15', '2015-05-16', '2015-05-22', '2015-05-23', '2015-05-29', '2015-05-30', '2015-06-05', '2015-06-06', '2015-06-12', '2015-06-13', '2015-06-19', '2015-06-20', '2015-06-26', '2015-06-27', '2015-07-03', '2015-07-04', '2015-07-10', '2015-07-11', '2015-07-17', '2015-07-18', '2015-07-24', '2015-07-25', '2015-07-31', '2015-08-01', '2015-08-07', '2015-08-08', '2015-08-14', '2015-08-15', '2015-08-21', '2015-08-22', '2015-08-28', '2015-08-29', '2015-09-04', '2015-09-05', '2015-09-11', '2015-09-12', '2015-09-18', '2015-09-19', '2015-09-25', '2015-09-26', '2015-10-02', '2015-10-03', '2015-10-09', '2015-10-10', '2015-10-16', '2015-10-17', '2015-10-23', '2015-10-24', '2015-10-30', '2015-10-31', '2015-11-06', '2015-11-07', '2015-11-13', '2015-11-14', '2015-11-20', '2015-11-21', '2015-11-27', '2015-11-28', '2015-12-04', '2015-12-05', '2015-12-11', '2015-12-12', '2015-12-18', '2015-12-19', '2015-12-25', '2015-12-26', '2016-01-01', '2016-01-02', '2016-01-08', '2016-01-09', '2016-01-15', '2016-01-16', '2016-01-22', '2016-01-23', '2016-01-29', '2016-01-30', '2016-02-05', '2016-02-06', '2016-02-12', '2016-02-13', '2016-02-19', '2016-02-20', '2016-02-26', '2016-02-27', '2016-03-04', '2016-03-05', '2016-03-11', '2016-03-12', '2016-03-18', '2016-03-19', '2016-03-25', '2016-03-26', '2016-04-01', '2016-04-02', '2016-04-08', '2016-04-09', '2016-04-15', '2016-04-16', '2016-04-22', '2016-04-23', '2016-04-29', '2016-04-30', '2016-05-06', '2016-05-07', '2016-05-13', '2016-05-14', '2016-05-20', '2016-05-21', '2016-05-27', '2016-05-28', '2016-06-03', '2016-06-04', '2016-06-10', '2016-06-11', '2016-06-17', '2016-06-18', '2016-06-24', '2016-06-25', '2016-07-01', '2016-07-02', '2016-07-08', '2016-07-09', '2016-07-15', '2016-07-16', '2016-07-22', '2016-07-23', '2016-07-29', '2016-07-30', '2016-08-05', '2016-08-06', '2016-08-12', '2016-08-13', '2016-08-19', '2016-08-20', '2016-08-26', '2016-08-27', '2016-09-02', '2016-09-03', '2016-09-09', '2016-09-10', '2016-09-16', '2016-09-17', '2016-09-23', '2016-09-24', '2016-09-30', '2016-10-01', '2016-10-07', '2016-10-08', '2016-10-14', '2016-10-15', '2016-10-21', '2016-10-22', '2016-10-28', '2016-10-29', '2016-11-04', '2016-11-05', '2016-11-11', '2016-11-12', '2016-11-18', '2016-11-19', '2016-11-25', '2016-11-26', '2016-12-02', '2016-12-03', '2016-12-09', '2016-12-10', '2016-12-16', '2016-12-17', '2016-12-23', '2016-12-24', '2016-12-30', '2016-12-31', '2017-01-06', '2017-01-07', '2017-01-13', '2017-01-14', '2017-01-20', '2017-01-21', '2017-01-27', '2017-01-28', '2017-02-03', '2017-02-04', '2017-02-10', '2017-02-11', '2017-02-17', '2017-02-18', '2017-02-24', '2017-02-25', '2017-03-03', '2017-03-04', '2017-03-10', '2017-03-11', '2017-03-17', '2017-03-18', '2017-03-24', '2017-03-25', '2017-03-31', '2017-04-01', '2017-04-07', '2017-04-08', '2017-04-14', '2017-04-15', '2017-04-21', '2017-04-22', '2017-04-28', '2017-04-29', '2017-05-05', '2017-05-06', '2017-05-12', '2017-05-13', '2017-05-19', '2017-05-20', '2017-05-26', '2017-05-27', '2017-06-02', '2017-06-03', '2017-06-09', '2017-06-10', '2017-06-16', '2017-06-17', '2017-06-23', '2017-06-24', '2017-06-30', '2017-07-01', '2017-07-07', '2017-07-08', '2017-07-10', '2017-07-14', '2017-07-15', '2017-07-21', '2017-07-22', '2017-07-28', '2017-07-29', '2017-08-04', '2017-08-05', '2017-08-11', '2017-08-12', '2017-08-18', '2017-08-19', '2017-08-25', '2017-08-26', '2017-09-01', '2017-09-02', '2017-09-08', '2017-09-09', '2017-09-15', '2017-09-16', '2017-09-22', '2017-09-23', '2017-09-29', '2017-09-30', '2017-10-06', '2017-10-07', '2017-10-13', '2017-10-14', '2017-10-20', '2017-10-21', '2017-10-27', '2017-10-28', '2017-11-03', '2017-11-04', '2017-11-10', '2017-11-11', '2017-11-15', '2017-11-17', '2017-11-18', '2017-11-24', '2017-11-25', '2017-12-01', '2017-12-02', '2017-12-08', '2017-12-09', '2017-12-15', '2017-12-16', '2017-12-22', '2017-12-23', '2017-12-29', '2017-12-30', '2018-01-05', '2018-01-06', '2018-01-12', '2018-01-13', '2018-01-19', '2018-01-20', '2018-01-26', '2018-01-27', '2018-02-02', '2018-02-03', '2018-02-09', '2018-02-10', '2018-02-16', '2018-02-17', '2018-02-23', '2018-02-24', '2018-03-02', '2018-03-03', '2018-03-09', '2018-03-10', '2018-03-16', '2018-03-17', '2018-03-23', '2018-03-24', '2018-03-30', '2018-03-31', '2018-04-06', '2018-04-07', '2018-04-13', '2018-04-14', '2018-04-20', '2018-04-21', '2018-04-27', '2018-04-28', '2018-05-04', '2018-05-05', '2018-05-11', '2018-05-12', '2018-05-18', '2018-05-19', '2018-05-25', '2018-05-26', '2018-06-01', '2018-06-02', '2018-06-08', '2018-06-09', '2018-06-15', '2018-06-16', '2018-06-22', '2018-06-23', '2018-06-29', '2018-06-30', '2018-07-06', '2018-07-07', '2018-07-13', '2018-07-14', '2018-07-20', '2018-07-21', '2018-07-27', '2018-07-28', '2018-08-03', '2018-08-04', '2018-08-10', '2018-08-11', '2018-08-17', '2018-08-18', '2018-08-24', '2018-08-25', '2018-08-31', '2018-09-01', '2018-09-07', '2018-09-08', '2018-09-14', '2018-09-15', '2018-09-21', '2018-09-22', '2018-09-28', '2018-09-29', '2018-10-05', '2018-10-06', '2018-10-12', '2018-10-13', '2018-10-19', '2018-10-20', '2018-10-26', '2018-10-27', '2018-11-02', '2018-11-03', '2018-11-09', '2018-11-10', '2018-11-16', '2018-11-17', '2018-11-23', '2018-11-24', '2018-11-30', '2018-12-01', '2018-12-07', '2018-12-08', '2018-12-14', '2018-12-15', '2018-12-21', '2018-12-22', '2018-12-28', '2018-12-29', '2019-01-04', '2019-01-05', '2019-01-11', '2019-01-12', '2019-01-18', '2019-01-19', '2019-01-25', '2019-01-26', '2019-02-01', '2019-02-02', '2019-02-08', '2019-02-09', '2019-02-15', '2019-02-16', '2019-02-22', '2019-02-23', '2019-03-01', '2019-03-02', '2019-03-08', '2019-03-09', '2019-03-15', '2019-03-16', '2019-03-22', '2019-03-23', '2019-03-29', '2019-03-30', '2019-04-05', '2019-04-06', '2019-04-12', '2019-04-13', '2019-04-19', '2019-04-20', '2019-04-26', '2019-04-27', '2019-05-03', '2019-05-04', '2019-05-10', '2019-05-11', '2019-05-17', '2019-05-18', '2019-05-24', '2019-05-25', '2019-05-31', '2019-06-01', '2019-06-07', '2019-06-08', '2019-06-14', '2019-06-15', '2019-06-21', '2019-06-22', '2019-06-28', '2019-06-29', '2019-07-05', '2019-07-06', '2019-07-12', '2019-07-13', '2019-07-19', '2019-07-20', '2019-07-26', '2019-07-27', '2019-08-02', '2019-08-03', '2019-08-09', '2019-08-10', '2019-08-16', '2019-08-17', '2019-08-23', '2019-08-24', '2019-08-30', '2019-08-31', '2019-09-06', '2019-09-07', '2019-09-13', '2019-09-14', '2019-09-20', '2019-09-21', '2019-09-27', '2019-09-28', '2019-10-04', '2019-10-05', '2019-10-11', '2019-10-12', '2019-10-18', '2019-10-19', '2019-10-25', '2019-10-26', '2019-11-01', '2019-11-02', '2019-11-08', '2019-11-09', '2019-11-10', '2019-11-13', '2019-11-15', '2019-11-16', '2019-11-22', '2019-11-23', '2019-11-29', '2019-11-30', '2019-12-06', '2019-12-07', '2019-12-13', '2019-12-14', '2019-12-20', '2019-12-21', '2019-12-27', '2019-12-28', '2020-01-03', '2020-01-04', '2020-01-10', '2020-01-11', '2020-01-17', '2020-01-18', '2020-01-24', '2020-01-25', '2020-01-31', '2020-02-01', '2020-02-07', '2020-02-08', '2020-02-14', '2020-02-15', '2020-02-21', '2020-02-22', '2020-02-28', '2020-02-29', '2020-03-06', '2020-03-07', '2020-03-13', '2020-03-14', '2020-03-20', '2020-03-21', '2020-03-27', '2020-03-28', '2020-04-03', '2020-04-04', '2020-04-10', '2020-04-11', '2020-04-17', '2020-04-18', '2020-04-24', '2020-04-25', '2020-05-01', '2020-05-02', '2020-05-08', '2020-05-09', '2020-05-15', '2020-05-16', '2020-05-22', '2020-05-23', '2020-05-29', '2020-05-30', '2020-06-05', '2020-06-06', '2020-06-12', '2020-06-13', '2020-06-19', '2020-06-20', '2020-06-26', '2020-06-27', '2020-07-03', '2020-07-04', '2020-07-10', '2020-07-11', '2020-07-17', '2020-07-18', '2020-07-24', '2020-07-25', '2020-07-31', '2020-08-01', '2020-08-07', '2020-08-08', '2020-08-14', '2020-08-15', '2020-08-21', '2020-08-22', '2020-08-28', '2020-08-29', '2020-09-04', '2020-09-05', '2020-09-11', '2020-09-12', '2020-09-18', '2020-09-19', '2020-09-25', '2020-09-26', '2020-10-02', '2020-10-03', '2020-10-09', '2020-10-10', '2020-10-16', '2020-10-17', '2020-10-23', '2020-10-24', '2020-10-30', '2020-10-31', '2020-11-06', '2020-11-07', '2020-11-13', '2020-11-14', '2020-11-20', '2020-11-21', '2020-11-27', '2020-11-28', '2020-12-04', '2020-12-05', '2020-12-11', '2020-12-12', '2020-12-18', '2020-12-19', '2020-12-25', '2020-12-26', '2021-01-01', '2021-01-02', '2021-01-08', '2021-01-09', '2021-01-15', '2021-01-16', '2021-01-22', '2021-01-23', '2021-01-29', '2021-01-30', '2021-02-05', '2021-02-06', '2021-02-12', '2021-02-13', '2021-02-19', '2021-02-20', '2021-02-26', '2021-02-27', '2021-03-05', '2021-03-06', '2021-03-12', '2021-03-13', '2021-03-19', '2021-03-20', '2021-03-26', '2021-03-27', '2021-04-02', '2021-04-03', '2021-04-09', '2021-04-10', '2021-04-16', '2021-04-17', '2021-04-23', '2021-04-24', '2021-04-30', '2021-05-01', '2021-05-07', '2021-05-08', '2021-05-14', '2021-05-15', '2021-05-21', '2021-05-22', '2021-05-28', '2021-05-29', '2021-06-04', '2021-06-05', '2021-06-11', '2021-06-12', '2021-06-18', '2021-06-19', '2021-06-25', '2021-06-26', '2021-07-02', '2021-07-03', '2021-07-09', '2021-07-10', '2021-07-16', '2021-07-17', '2021-07-23', '2021-07-24', '2021-07-30', '2021-07-31', '2021-08-06', '2021-08-07', '2021-08-13', '2021-08-14', '2021-08-20', '2021-08-21', '2021-08-27', '2021-08-28', '2021-09-03', '2021-09-04', '2021-09-10', '2021-09-11', '2021-09-17', '2021-09-18', '2021-09-24', '2021-09-25', '2021-10-01', '2021-10-02', '2021-10-08', '2021-10-09', '2021-10-15', '2021-10-16', '2021-10-22', '2021-10-23', '2021-10-29', '2021-10-30', '2021-11-05', '2021-11-06', '2021-11-12', '2021-11-13', '2021-11-19', '2021-11-20', '2021-11-26', '2021-11-27', '2021-12-03', '2021-12-04', '2021-12-10', '2021-12-11', '2021-12-17', '2021-12-18', '2021-12-24', '2021-12-25', '2021-12-31', '2022-01-01', '2022-01-07', '2022-01-08', '2022-01-14', '2022-01-15', '2022-01-21', '2022-01-22', '2022-01-28', '2022-01-29', '2022-02-04', '2022-02-05', '2022-02-11', '2022-02-12', '2022-02-18', '2022-02-19', '2022-02-25', '2022-02-26', '2022-03-04', '2022-03-05', '2022-03-11', '2022-03-12', '2022-03-18', '2022-03-19', '2022-03-25', '2022-03-26', '2022-04-01', '2022-04-02', '2022-04-08', '2022-04-09', '2022-04-15', '2022-04-16', '2022-04-22', '2022-04-23', '2022-04-29', '2022-04-30', '2022-05-06', '2022-05-07', '2022-05-13', '2022-05-14', '2022-05-20', '2022-05-21', '2022-05-27', '2022-05-28', '2022-06-03', '2022-06-04', '2022-06-10', '2022-06-11', '2022-06-17', '2022-06-18', '2022-06-24', '2022-06-25', '2022-07-01', '2022-07-02', '2022-07-08', '2022-07-09', '2022-07-15', '2022-07-16', '2022-07-22', '2022-07-23', '2022-07-29', '2022-07-30', '2022-08-05', '2022-08-06', '2022-08-12', '2022-08-13', '2022-08-19', '2022-08-20', '2022-08-26', '2022-08-27', '2022-09-02', '2022-09-03', '2022-09-09', '2022-09-10', '2022-09-16', '2022-09-17', '2022-09-23', '2022-09-24', '2022-09-30', '2022-10-01', '2022-10-07', '2022-10-08', '2022-10-14', '2022-10-15', '2022-10-21', '2022-10-22', '2022-10-28', '2022-10-29', '2022-11-04', '2022-11-05', '2022-11-11', '2022-11-12', '2022-11-18', '2022-11-19', '2022-11-25', '2022-11-26', '2022-12-02', '2022-12-03', '2022-12-09', '2022-12-10', '2022-12-16', '2022-12-17', '2022-12-23', '2022-12-24', '2022-12-30', '2022-12-31', '2023-01-06', '2023-01-07', '2023-01-13', '2023-01-14', '2023-01-20', '2023-01-21', '2023-01-27', '2023-01-28', '2023-02-03', '2023-02-04', '2023-02-10', '2023-02-11', '2023-02-17', '2023-02-18', '2023-02-24', '2023-02-25', '2023-03-03', '2023-03-04', '2023-03-10', '2023-03-11', '2023-03-17', '2023-03-18', '2023-03-24', '2023-03-25', '2023-03-31', '2023-04-01', '2023-04-07', '2023-04-08', '2023-04-14', '2023-04-15', '2023-04-21', '2023-04-22', '2023-04-28', '2023-04-29', '2023-05-05', '2023-05-06', '2023-05-12', '2023-05-13', '2023-05-19', '2023-05-20', '2023-05-26', '2023-05-27', '2023-06-02', '2023-06-03', '2023-06-09', '2023-06-10', '2023-06-16', '2023-06-17', '2023-06-23', '2023-06-24', '2023-06-30', '2023-07-01', '2023-07-07', '2023-07-08', '2023-07-14', '2023-07-15', '2023-07-21', '2023-07-22', '2023-07-28', '2023-07-29', '2023-08-04', '2023-08-05', '2023-08-11', '2023-08-12', '2023-08-18', '2023-08-19', '2023-08-25', '2023-08-26', '2023-09-01', '2023-09-02', '2023-09-08', '2023-09-09', '2023-09-15', '2023-09-16', '2023-09-22', '2023-09-23', '2023-09-29', '2023-09-30', '2023-10-06', '2023-10-07', '2023-10-13', '2023-10-14', '2023-10-20', '2023-10-21', '2023-10-27', '2023-10-28', '2023-11-03', '2023-11-04', '2023-11-10', '2023-11-11', '2023-11-17', '2023-11-18', '2023-11-24', '2023-11-25', '2023-12-01', '2023-12-02', '2023-12-08', '2023-12-09', '2023-12-15', '2023-12-16', '2023-12-22', '2023-12-23', '2023-12-29', '2023-12-30', '2024-01-05', '2024-01-06', '2024-01-12', '2024-01-13', '2024-01-19', '2024-01-20', '2024-01-26', '2024-01-27', '2024-02-02', '2024-02-03', '2024-02-09', '2024-02-10', '2024-02-16', '2024-02-17', '2024-02-23', '2024-02-24', '2024-03-01', '2024-03-02', '2024-03-08', '2024-03-09', '2024-03-15', '2024-03-16', '2024-03-22', '2024-03-23', '2024-03-29', '2024-03-30', '2024-04-05', '2024-04-06', '2024-04-12', '2024-04-13', '2024-04-19', '2024-04-20', '2024-04-26', '2024-04-27', '2024-05-03', '2024-05-04', '2024-05-10', '2024-05-11', '2024-05-17', '2024-05-18', '2024-05-24', '2024-05-25', '2024-05-31', '2024-06-01', '2024-06-07', '2024-06-08', '2024-06-14', '2024-06-15', '2024-06-21', '2024-06-22', '2024-06-28', '2024-06-29', '2024-07-05', '2024-07-06', '2024-07-12', '2024-07-13', '2024-07-19', '2024-07-20', '2024-07-26', '2024-07-27', '2024-08-02', '2024-08-03', '2024-08-09', '2024-08-10', '2024-08-16', '2024-08-17', '2024-08-23', '2024-08-24', '2024-08-30', '2024-08-31', '2024-09-06', '2024-09-07', '2024-09-13', '2024-09-14', '2024-09-20', '2024-09-21', '2024-09-27', '2024-09-28', '2024-10-04', '2024-10-05', '2024-10-11', '2024-10-12', '2024-10-18', '2024-10-19', '2024-10-25', '2024-10-26', '2024-11-01', '2024-11-02', '2024-11-08', '2024-11-09', '2024-11-15', '2024-11-16', '2024-11-22', '2024-11-23', '2024-11-29', '2024-11-30', '2024-12-06', '2024-12-07', '2024-12-13', '2024-12-14', '2024-12-20', '2024-12-21', '2024-12-27', '2024-12-28', '2024-12-31', '2025-01-03', '2025-01-04', '2025-01-10', '2025-01-11', '2025-01-17', '2025-01-18', '2025-01-24', '2025-01-25', '2025-01-31', '2025-02-01', '2025-02-07', '2025-02-08', '2025-02-14', '2025-02-15', '2025-02-21', '2025-02-22', '2025-02-28', '2025-03-01', '2025-03-07', '2025-03-08', '2025-03-14', '2025-03-15', '2025-03-21', '2025-03-22', '2025-03-28', '2025-03-29']\n",
      "1050\n"
     ]
    }
   ],
   "source": [
    "full_range = pd.date_range(start='2015-04-01', end='2025-04-01', freq='D')\n",
    "\n",
    "existing_dates = df.index\n",
    "\n",
    "missing_dates = full_range.difference(existing_dates)\n",
    "\n",
    "if missing_dates.empty:\n",
    "    print(\"Không có ngày nào bị thiếu trong dữ liệu.\")\n",
    "else:\n",
    "    print(\"Các ngày bị thiếu trong dữ liệu:\")\n",
    "    print(missing_dates.strftime('%Y-%m-%d').tolist())\n",
    "    print(len(missing_dates))\n"
   ]
  },
  {
   "cell_type": "markdown",
   "metadata": {},
   "source": [
    "Thiếu do nghỉ lễ, T7/CN"
   ]
  },
  {
   "cell_type": "code",
   "execution_count": 71,
   "metadata": {},
   "outputs": [
    {
     "data": {
      "text/plain": [
       "2604"
      ]
     },
     "execution_count": 71,
     "metadata": {},
     "output_type": "execute_result"
    }
   ],
   "source": [
    "len(df)"
   ]
  },
  {
   "cell_type": "markdown",
   "metadata": {},
   "source": [
    "# **Ma trận tương quan**"
   ]
  },
  {
   "cell_type": "code",
   "execution_count": 72,
   "metadata": {},
   "outputs": [
    {
     "data": {
      "image/png": "[encoded data removed]",
      "text/plain": [
       "<Figure size 1000x600 with 2 Axes>"
      ]
     },
     "metadata": {},
     "output_type": "display_data"
    }
   ],
   "source": [
    "corr_matrix = df.corr()\n",
    "\n",
    "plt.figure(figsize=(10, 6))\n",
    "sns.heatmap(corr_matrix, annot=True, cmap=\"coolwarm\", fmt=\".2f\", linewidths=0.5)\n",
    "plt.title(\"Ma Trận Tương Quan\")\n",
    "plt.show()"
   ]
  },
  {
   "cell_type": "markdown",
   "metadata": {},
   "source": [
    "=> Chỉ chọn \"close\""
   ]
  },
  {
   "cell_type": "code",
   "execution_count": 73,
   "metadata": {},
   "outputs": [],
   "source": [
    "data = df['close']"
   ]
  },
  {
   "cell_type": "code",
   "execution_count": 74,
   "metadata": {},
   "outputs": [],
   "source": [
    "data = pd.DataFrame(data)"
   ]
  },
  {
   "cell_type": "code",
   "execution_count": 75,
   "metadata": {},
   "outputs": [
    {
     "data": {
      "text/plain": [
       "pandas.core.frame.DataFrame"
      ]
     },
     "execution_count": 75,
     "metadata": {},
     "output_type": "execute_result"
    }
   ],
   "source": [
    "type(data)"
   ]
  },
  {
   "cell_type": "markdown",
   "metadata": {},
   "source": [
    "# **Chuẩn hóa dữ liệu**"
   ]
  },
  {
   "cell_type": "code",
   "execution_count": 76,
   "metadata": {},
   "outputs": [
    {
     "data": {
      "text/html": [
       "<div>\n",
       "<style scoped>\n",
       "    .dataframe tbody tr th:only-of-type {\n",
       "        vertical-align: middle;\n",
       "    }\n",
       "\n",
       "    .dataframe tbody tr th {\n",
       "        vertical-align: top;\n",
       "    }\n",
       "\n",
       "    .dataframe thead th {\n",
       "        text-align: right;\n",
       "    }\n",
       "</style>\n",
       "<table border=\"1\" class=\"dataframe\">\n",
       "  <thead>\n",
       "    <tr style=\"text-align: right;\">\n",
       "      <th></th>\n",
       "      <th>close</th>\n",
       "    </tr>\n",
       "    <tr>\n",
       "      <th>timestamp</th>\n",
       "      <th></th>\n",
       "    </tr>\n",
       "  </thead>\n",
       "  <tbody>\n",
       "    <tr>\n",
       "      <th>2015-04-02</th>\n",
       "      <td>0.815516</td>\n",
       "    </tr>\n",
       "    <tr>\n",
       "      <th>2015-04-05</th>\n",
       "      <td>0.815516</td>\n",
       "    </tr>\n",
       "    <tr>\n",
       "      <th>2015-04-06</th>\n",
       "      <td>0.815516</td>\n",
       "    </tr>\n",
       "    <tr>\n",
       "      <th>2015-04-07</th>\n",
       "      <td>0.819253</td>\n",
       "    </tr>\n",
       "    <tr>\n",
       "      <th>2015-04-08</th>\n",
       "      <td>0.820259</td>\n",
       "    </tr>\n",
       "  </tbody>\n",
       "</table>\n",
       "</div>"
      ],
      "text/plain": [
       "               close\n",
       "timestamp           \n",
       "2015-04-02  0.815516\n",
       "2015-04-05  0.815516\n",
       "2015-04-06  0.815516\n",
       "2015-04-07  0.819253\n",
       "2015-04-08  0.820259"
      ]
     },
     "execution_count": 76,
     "metadata": {},
     "output_type": "execute_result"
    }
   ],
   "source": [
    "scaler = MinMaxScaler(feature_range=(0, 1))\n",
    "data_scaled = scaler.fit_transform(data)\n",
    "\n",
    "df_scaled = pd.DataFrame(data_scaled, index=data.index, columns=['close'])\n",
    "\n",
    "df_scaled.head()"
   ]
  },
  {
   "cell_type": "code",
   "execution_count": 77,
   "metadata": {},
   "outputs": [],
   "source": [
    "df_scaled.to_csv(\"../data/processed/EUR_VND_Exchange_Rate.csv\")"
   ]
  },
  {
   "cell_type": "code",
   "execution_count": 78,
   "metadata": {},
   "outputs": [],
   "source": [
    "# def load_and_preprocess_data(file_path, seq_length=30):\n",
    "#     \"\"\"Tải dữ liệu, tạo sequences và giữ lại timestamps cho train/test.\"\"\"\n",
    "    \n",
    "#     data = pd.read_csv(file_path, parse_dates=[\"timestamp\"])\n",
    "\n",
    "#     timestamps = data[\"timestamp\"].values  \n",
    "#     values = data[\"close\"].fillna(0).astype(np.float32).values\n",
    "\n",
    "#     train_size = int(len(values) * 0.8)\n",
    "#     train_values, test_values = values[:train_size], values[train_size:]\n",
    "#     train_timestamps, test_timestamps = timestamps[:train_size], timestamps[train_size:]\n",
    "\n",
    "#     def create_sequences(values, timestamps):\n",
    "#         \"\"\"Tạo sequences với timestamps tương ứng.\"\"\"\n",
    "#         if len(values) <= seq_length:\n",
    "#             print(\"Dữ liệu quá ngắn! Không thể tạo sequences.\")\n",
    "#             return np.array([]), np.array([]), []\n",
    "\n",
    "#         X, y, y_timestamps = [], [], []\n",
    "#         for i in range(len(values) - seq_length):\n",
    "#             X.append(values[i : i + seq_length])\n",
    "#             y.append(values[i + seq_length])\n",
    "#             y_timestamps.append(pd.to_datetime(timestamps[i + seq_length]).date())\n",
    "\n",
    "#         return np.array(X, dtype=np.float32), np.array(y, dtype=np.float32), np.array(y_timestamps)\n",
    "\n",
    "\n",
    "#     X_train, y_train, time_train = create_sequences(train_values, train_timestamps)\n",
    "#     X_test, y_test, time_test = create_sequences(test_values, test_timestamps)\n",
    "\n",
    "#     return X_train, y_train, time_train, X_test, y_test, time_test"
   ]
  }
 ],
 "metadata": {
  "kernelspec": {
   "display_name": "Python 3",
   "language": "python",
   "name": "python3"
  },
  "language_info": {
   "codemirror_mode": {
    "name": "ipython",
    "version": 3
   },
   "file_extension": ".py",
   "mimetype": "text/x-python",
   "name": "python",
   "nbconvert_exporter": "python",
   "pygments_lexer": "ipython3",
   "version": "3.12.5"
  }
 },
 "nbformat": 4,
 "nbformat_minor": 2
}
