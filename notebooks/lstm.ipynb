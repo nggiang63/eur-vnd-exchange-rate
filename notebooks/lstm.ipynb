{
 "cells": [
  {
   "cell_type": "markdown",
   "metadata": {},
   "source": [
    "# **Thư viện**"
   ]
  },
  {
   "cell_type": "code",
   "execution_count": 7,
   "metadata": {},
   "outputs": [],
   "source": [
    "import pandas as pd\n",
    "import numpy as np\n",
    "import keras_tuner as kt\n",
    "from tensorflow.keras.models import Sequential\n",
    "from tensorflow.keras.layers import LSTM, Dense, Dropout, BatchNormalization, Input\n",
    "from tensorflow.keras.optimizers import Adam\n",
    "from tensorflow.keras.regularizers import l2\n",
    "from tensorflow.keras.callbacks import EarlyStopping, ModelCheckpoint\n"
   ]
  },
  {
   "cell_type": "markdown",
   "metadata": {},
   "source": [
    "# **Dữ liệu**"
   ]
  },
  {
   "cell_type": "code",
   "execution_count": 8,
   "metadata": {},
   "outputs": [
    {
     "data": {
      "text/html": [
       "<div>\n",
       "<style scoped>\n",
       "    .dataframe tbody tr th:only-of-type {\n",
       "        vertical-align: middle;\n",
       "    }\n",
       "\n",
       "    .dataframe tbody tr th {\n",
       "        vertical-align: top;\n",
       "    }\n",
       "\n",
       "    .dataframe thead th {\n",
       "        text-align: right;\n",
       "    }\n",
       "</style>\n",
       "<table border=\"1\" class=\"dataframe\">\n",
       "  <thead>\n",
       "    <tr style=\"text-align: right;\">\n",
       "      <th></th>\n",
       "      <th>timestamp</th>\n",
       "      <th>close</th>\n",
       "    </tr>\n",
       "  </thead>\n",
       "  <tbody>\n",
       "    <tr>\n",
       "      <th>0</th>\n",
       "      <td>2020-04-01</td>\n",
       "      <td>0.536539</td>\n",
       "    </tr>\n",
       "    <tr>\n",
       "      <th>1</th>\n",
       "      <td>2020-04-02</td>\n",
       "      <td>0.526992</td>\n",
       "    </tr>\n",
       "    <tr>\n",
       "      <th>2</th>\n",
       "      <td>2020-04-05</td>\n",
       "      <td>0.472835</td>\n",
       "    </tr>\n",
       "    <tr>\n",
       "      <th>3</th>\n",
       "      <td>2020-04-06</td>\n",
       "      <td>0.450963</td>\n",
       "    </tr>\n",
       "    <tr>\n",
       "      <th>4</th>\n",
       "      <td>2020-04-07</td>\n",
       "      <td>0.483597</td>\n",
       "    </tr>\n",
       "  </tbody>\n",
       "</table>\n",
       "</div>"
      ],
      "text/plain": [
       "    timestamp     close\n",
       "0  2020-04-01  0.536539\n",
       "1  2020-04-02  0.526992\n",
       "2  2020-04-05  0.472835\n",
       "3  2020-04-06  0.450963\n",
       "4  2020-04-07  0.483597"
      ]
     },
     "execution_count": 8,
     "metadata": {},
     "output_type": "execute_result"
    }
   ],
   "source": [
    "df = pd.read_csv(\"../data/processed/EUR_VND_Exchange_Rate.csv\")\n",
    "df.head()"
   ]
  },
  {
   "cell_type": "code",
   "execution_count": 9,
   "metadata": {},
   "outputs": [
    {
     "ename": "NameError",
     "evalue": "name 'load_and_preprocess_data' is not defined",
     "output_type": "error",
     "traceback": [
      "\u001b[31m---------------------------------------------------------------------------\u001b[39m",
      "\u001b[31mNameError\u001b[39m                                 Traceback (most recent call last)",
      "\u001b[36mCell\u001b[39m\u001b[36m \u001b[39m\u001b[32mIn[9]\u001b[39m\u001b[32m, line 1\u001b[39m\n\u001b[32m----> \u001b[39m\u001b[32m1\u001b[39m X_train, y_train, time_train, X_test, y_test, time_test = \u001b[43mload_and_preprocess_data\u001b[49m(\n\u001b[32m      2\u001b[39m     \u001b[33m\"\u001b[39m\u001b[33m../data/raw/EUR_VND_Exchange_Rate.csv\u001b[39m\u001b[33m\"\u001b[39m, seq_length=\u001b[32m30\u001b[39m\n\u001b[32m      3\u001b[39m )\n\u001b[32m      4\u001b[39m \u001b[38;5;28mprint\u001b[39m(\u001b[38;5;28mlen\u001b[39m(X_train), \u001b[38;5;28mlen\u001b[39m(X_test))\n",
      "\u001b[31mNameError\u001b[39m: name 'load_and_preprocess_data' is not defined"
     ]
    }
   ],
   "source": [
    "X_train, y_train, time_train, X_test, y_test, time_test = load_and_preprocess_data(\n",
    "    \"../data/raw/EUR_VND_Exchange_Rate.csv\", seq_length=30\n",
    ")\n",
    "print(len(X_train), len(X_test))"
   ]
  },
  {
   "cell_type": "code",
   "execution_count": null,
   "metadata": {},
   "outputs": [],
   "source": [
    "X_train"
   ]
  },
  {
   "cell_type": "markdown",
   "metadata": {},
   "source": [
    "# **Mô hình LSTM**"
   ]
  },
  {
   "cell_type": "code",
   "execution_count": null,
   "metadata": {},
   "outputs": [],
   "source": [
    "def build_lstm_model(hp, seq_length):\n",
    "    \"\"\"Xây dựng mô hình LSTM với hyperparameter tuning.\"\"\"\n",
    "    model = Sequential()\n",
    "    model.add(Input(shape=(seq_length, 1)))\n",
    "\n",
    "    model.add(LSTM(\n",
    "        units=hp.Int(\"lstm_units_1\", 32, 128, 16),\n",
    "        return_sequences=True,\n",
    "        activation=\"tanh\",\n",
    "        kernel_regularizer=l2(hp.Choice(\"l2_reg\", [0.001, 0.01, 0.1]))\n",
    "    ))\n",
    "    model.add(BatchNormalization())\n",
    "    model.add(Dropout(hp.Float(\"dropout_1\", 0.1, 0.5, 0.1)))\n",
    "\n",
    "    model.add(LSTM(\n",
    "        units=hp.Int(\"lstm_units_2\", 32, 128, 16),\n",
    "        return_sequences=False,\n",
    "        activation=\"tanh\",\n",
    "        kernel_regularizer=l2(hp.Choice(\"l2_reg\", [0.001, 0.01, 0.1]))\n",
    "    ))\n",
    "    model.add(BatchNormalization())\n",
    "    model.add(Dropout(hp.Float(\"dropout_2\", 0.1, 0.5, 0.1)))\n",
    "\n",
    "    model.add(Dense(hp.Int(\"dense_units\", 16, 64, 16), activation=\"relu\"))\n",
    "    model.add(Dense(1))\n",
    "\n",
    "    model.compile(\n",
    "        optimizer=Adam(learning_rate=hp.Choice(\"learning_rate\", [0.001, 0.0005, 0.0001])),\n",
    "        loss=\"mse\",\n",
    "        metrics=[\"mae\"]\n",
    "    )\n",
    "\n",
    "    return model\n",
    "\n",
    "def train_lstm(X_train, y_train, X_test, y_test, seq_length, model_path):\n",
    "    \"\"\"Huấn luyện và lưu mô hình LSTM sử dụng hyperparameter tuning.\"\"\"\n",
    "    tuner = kt.RandomSearch(\n",
    "        lambda hp: build_lstm_model(hp, seq_length),\n",
    "        objective=\"val_loss\",\n",
    "        max_trials=10,\n",
    "        executions_per_trial=2,\n",
    "        directory=r\"C:\\Users\\DELL\\Downloads\\KÌ 2 (2024 - 2025)\\Phân tích chuỗi thời gian\\Project\\models\",\n",
    "    )\n",
    "\n",
    "    early_stopping = EarlyStopping(monitor=\"val_loss\", patience=10, restore_best_weights=True)\n",
    "    model_checkpoint = ModelCheckpoint(model_path, save_best_only=True)\n",
    "\n",
    "    tuner.search(X_train, y_train,\n",
    "                 epochs=50,\n",
    "                 batch_size=32,\n",
    "                 validation_data=(X_test, y_test),\n",
    "                 callbacks=[early_stopping, model_checkpoint])\n",
    "\n",
    "    return tuner.get_best_hyperparameters(num_trials=1)[0]\n"
   ]
  },
  {
   "cell_type": "code",
   "execution_count": null,
   "metadata": {},
   "outputs": [],
   "source": [
    "best_hp = train_lstm(\n",
    "    X_train, y_train, \n",
    "    X_test, y_test, \n",
    "    seq_length=30, \n",
    "    model_path=r\"C:\\Users\\DELL\\Downloads\\KÌ 2 (2024 - 2025)\\Phân tích chuỗi thời gian\\Project\\models\\best_lstm.h5\", \n",
    ")"
   ]
  },
  {
   "cell_type": "code",
   "execution_count": null,
   "metadata": {},
   "outputs": [],
   "source": [
    "best_hp.values"
   ]
  }
 ],
 "metadata": {
  "kernelspec": {
   "display_name": ".venv",
   "language": "python",
   "name": "python3"
  },
  "language_info": {
   "codemirror_mode": {
    "name": "ipython",
    "version": 3
   },
   "file_extension": ".py",
   "mimetype": "text/x-python",
   "name": "python",
   "nbconvert_exporter": "python",
   "pygments_lexer": "ipython3",
   "version": "3.12.5"
  }
 },
 "nbformat": 4,
 "nbformat_minor": 2
}
