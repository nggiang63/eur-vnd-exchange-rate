{
 "cells": [
  {
   "cell_type": "markdown",
   "metadata": {},
   "source": [
    "# **Crawl dữ liệu từ alphavantage**"
   ]
  },
  {
   "cell_type": "code",
   "execution_count": 9,
   "metadata": {},
   "outputs": [
    {
     "name": "stdout",
     "output_type": "stream",
     "text": [
      "Dữ liệu EUR/VND từ 2015-03-31 đến 2025-04-01 đã được lưu vào ../data/raw/EUR_VND_Exchange_Rate.csv\n"
     ]
    }
   ],
   "source": [
    "import requests\n",
    "import pandas as pd\n",
    "from datetime import datetime\n",
    "from io import StringIO\n",
    "\n",
    "API_KEY = 'NZVUI9K5KV8CLIED'\n",
    "\n",
    "def get_exchange_rate(from_symbol, to_symbol, start_date, end_date, file_name):\n",
    "    url = f\"https://www.alphavantage.co/query?function=FX_DAILY&from_symbol={from_symbol}&to_symbol={to_symbol}&outputsize=full&datatype=csv&apikey={API_KEY}\"\n",
    "    response = requests.get(url)\n",
    "    \n",
    "    if response.status_code == 200:\n",
    "        df = pd.read_csv(StringIO(response.text))\n",
    "        df['timestamp'] = pd.to_datetime(df['timestamp'])\n",
    "        \n",
    "        start_date = datetime.strptime(start_date, \"%Y-%m-%d\").date()\n",
    "        end_date = datetime.strptime(end_date, \"%Y-%m-%d\").date()\n",
    "        \n",
    "        filtered_df = df[(df['timestamp'].dt.date >= start_date) & (df['timestamp'].dt.date <= end_date)]\n",
    "        \n",
    "        if not filtered_df.empty:\n",
    "            drive_path = f\"../data/raw/{file_name}\"\n",
    "            filtered_df.to_csv(drive_path, index=False)\n",
    "            print(f\"Dữ liệu {from_symbol}/{to_symbol} từ {start_date} đến {end_date} đã được lưu vào {drive_path}\")\n",
    "        else:\n",
    "            print(f\"Không có dữ liệu từ {start_date} đến {end_date}\")\n",
    "    else:\n",
    "        print(f\"Lỗi khi lấy dữ liệu {from_symbol}/{to_symbol}: {response.status_code}\")\n",
    "\n",
    "get_exchange_rate('EUR', 'VND', '2015-04-01', '2025-04-01', \"EUR_VND_Exchange_Rate.csv\")"
   ]
  }
 ],
 "metadata": {
  "kernelspec": {
   "display_name": ".venv",
   "language": "python",
   "name": "python3"
  },
  "language_info": {
   "codemirror_mode": {
    "name": "ipython",
    "version": 3
   },
   "file_extension": ".py",
   "mimetype": "text/x-python",
   "name": "python",
   "nbconvert_exporter": "python",
   "pygments_lexer": "ipython3",
   "version": "3.12.5"
  }
 },
 "nbformat": 4,
 "nbformat_minor": 2
}
