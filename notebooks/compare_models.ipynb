{
 "cells": [
  {
   "cell_type": "markdown",
   "id": "79913856",
   "metadata": {},
   "source": [
    "# **Thư viện**"
   ]
  },
  {
   "cell_type": "code",
   "execution_count": null,
   "id": "2c45ed8c",
   "metadata": {},
   "outputs": [],
   "source": [
    "# import joblib\n",
    "from tensorflow.keras.models import load_model"
   ]
  },
  {
   "cell_type": "markdown",
   "id": "4cdd0f75",
   "metadata": {},
   "source": [
    "# **So sánh các mô hình**"
   ]
  },
  {
   "cell_type": "code",
   "execution_count": null,
   "id": "efe60a05",
   "metadata": {},
   "outputs": [],
   "source": [
    "lstm = load_model(r\"D:\\eur-vnd-exchange-rate\\models\\LSTM\\best_lstm.h5\", compile=False)\n"
   ]
  }
 ],
 "metadata": {
  "kernelspec": {
   "display_name": "Python 3",
   "language": "python",
   "name": "python3"
  },
  "language_info": {
   "name": "python",
   "version": "3.12.5"
  }
 },
 "nbformat": 4,
 "nbformat_minor": 5
}
