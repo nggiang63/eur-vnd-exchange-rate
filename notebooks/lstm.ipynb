{
 "cells": [
  {
   "cell_type": "markdown",
   "metadata": {},
   "source": [
    "# **Thư viện**"
   ]
  },
  {
   "cell_type": "code",
   "execution_count": 20,
   "metadata": {},
   "outputs": [],
   "source": [
    "import pandas as pd\n",
    "import numpy as np\n",
    "import keras_tuner as kt\n",
    "from tensorflow.keras.models import Sequential\n",
    "from tensorflow.keras.layers import LSTM, Dense, Dropout, BatchNormalization, Input\n",
    "from tensorflow.keras.optimizers import Adam\n",
    "from tensorflow.keras.regularizers import l2\n",
    "from tensorflow.keras.callbacks import EarlyStopping, ModelCheckpoint\n",
    "from tensorflow.keras.models import load_model\n",
    "from sklearn.metrics import mean_absolute_error, mean_squared_error, mean_absolute_percentage_error\n",
    "from sklearn.preprocessing import MinMaxScaler\n",
    "import matplotlib.pyplot as plt"
   ]
  },
  {
   "cell_type": "markdown",
   "metadata": {},
   "source": [
    "# **Dữ liệu**"
   ]
  },
  {
   "cell_type": "code",
   "execution_count": 21,
   "metadata": {},
   "outputs": [
    {
     "data": {
      "text/html": [
       "<div>\n",
       "<style scoped>\n",
       "    .dataframe tbody tr th:only-of-type {\n",
       "        vertical-align: middle;\n",
       "    }\n",
       "\n",
       "    .dataframe tbody tr th {\n",
       "        vertical-align: top;\n",
       "    }\n",
       "\n",
       "    .dataframe thead th {\n",
       "        text-align: right;\n",
       "    }\n",
       "</style>\n",
       "<table border=\"1\" class=\"dataframe\">\n",
       "  <thead>\n",
       "    <tr style=\"text-align: right;\">\n",
       "      <th></th>\n",
       "      <th>Sell</th>\n",
       "    </tr>\n",
       "    <tr>\n",
       "      <th>Date</th>\n",
       "      <th></th>\n",
       "    </tr>\n",
       "  </thead>\n",
       "  <tbody>\n",
       "    <tr>\n",
       "      <th>2025-04-07</th>\n",
       "      <td>29106.52</td>\n",
       "    </tr>\n",
       "    <tr>\n",
       "      <th>2025-04-08</th>\n",
       "      <td>29215.21</td>\n",
       "    </tr>\n",
       "    <tr>\n",
       "      <th>2025-04-09</th>\n",
       "      <td>29443.52</td>\n",
       "    </tr>\n",
       "    <tr>\n",
       "      <th>2025-04-10</th>\n",
       "      <td>29178.76</td>\n",
       "    </tr>\n",
       "    <tr>\n",
       "      <th>2025-04-11</th>\n",
       "      <td>29775.69</td>\n",
       "    </tr>\n",
       "  </tbody>\n",
       "</table>\n",
       "</div>"
      ],
      "text/plain": [
       "                Sell\n",
       "Date                \n",
       "2025-04-07  29106.52\n",
       "2025-04-08  29215.21\n",
       "2025-04-09  29443.52\n",
       "2025-04-10  29178.76\n",
       "2025-04-11  29775.69"
      ]
     },
     "execution_count": 21,
     "metadata": {},
     "output_type": "execute_result"
    }
   ],
   "source": [
    "data = pd.read_csv(\"../data/processed/EUR_VND_Exchange_Rate.csv\", parse_dates=[\"Date\"])\n",
    "data.set_index(\"Date\", inplace=True) \n",
    "data = data[[\"Sell\"]].copy()\n",
    "data.tail()"
   ]
  },
  {
   "cell_type": "markdown",
   "metadata": {},
   "source": [
    "# **Chuẩn hóa dữ liệu**"
   ]
  },
  {
   "cell_type": "code",
   "execution_count": 22,
   "metadata": {},
   "outputs": [],
   "source": [
    "scaler = MinMaxScaler(feature_range=(0, 1))\n",
    "data_scaled = scaler.fit_transform(data)\n",
    "df_scaled = pd.DataFrame(data_scaled, index=data.index, columns=[\"Sell\"])"
   ]
  },
  {
   "cell_type": "markdown",
   "metadata": {},
   "source": [
    "# **Chia Train/Test**"
   ]
  },
  {
   "cell_type": "code",
   "execution_count": 23,
   "metadata": {},
   "outputs": [],
   "source": [
    "values = df_scaled[\"Sell\"].values.astype(np.float32)\n",
    "timestamps = df_scaled.index\n",
    "\n",
    "train_size = int(len(values) * 0.8)\n",
    "train_values, test_values = values[:train_size], values[train_size:]\n",
    "train_timestamps, test_timestamps = timestamps[:train_size], timestamps[train_size:]\n",
    "\n",
    "# --- TẠO SEQUENCES ---\n",
    "seq_length = 30\n",
    "def create_sequences(values, timestamps):\n",
    "    X, y, y_timestamps = [], [], []\n",
    "    for i in range(len(values) - seq_length):\n",
    "        X.append(values[i : i + seq_length])\n",
    "        y.append(values[i + seq_length])\n",
    "        y_timestamps.append(timestamps[i + seq_length])\n",
    "    return np.array(X, dtype=np.float32), np.array(y, dtype=np.float32), np.array(y_timestamps)\n",
    "\n",
    "X_train, y_train, time_train = create_sequences(train_values, train_timestamps)\n",
    "X_test, y_test, time_test = create_sequences(test_values, test_timestamps)\n"
   ]
  },
  {
   "cell_type": "code",
   "execution_count": 24,
   "metadata": {},
   "outputs": [],
   "source": [
    "# Reshape input cho LSTM: (samples, time steps, features)\n",
    "X_train = X_train.reshape(-1, seq_length, 1)\n",
    "X_test = X_test.reshape(-1, seq_length, 1)"
   ]
  },
  {
   "cell_type": "markdown",
   "metadata": {},
   "source": [
    "# **Mô hình LSTM**"
   ]
  },
  {
   "cell_type": "code",
   "execution_count": 25,
   "metadata": {},
   "outputs": [],
   "source": [
    "# --- XÂY DỰNG MÔ HÌNH ---\n",
    "def build_lstm_model(hp, seq_length):\n",
    "    model = Sequential()\n",
    "    model.add(Input(shape=(seq_length, 1)))\n",
    "    model.add(LSTM(\n",
    "        units=hp.Int(\"lstm_units_2\", 32, 128, 16),\n",
    "        return_sequences=False,\n",
    "        activation=\"tanh\",\n",
    "        kernel_regularizer=l2(hp.Choice(\"l2_reg\", [0.001, 0.01, 0.1]))\n",
    "    ))\n",
    "    model.add(BatchNormalization())\n",
    "    model.add(Dropout(hp.Float(\"dropout_2\", 0.1, 0.5, 0.1)))\n",
    "    model.add(Dense(hp.Int(\"dense_units\", 16, 64, 16), activation=\"relu\"))\n",
    "    model.add(Dense(1))\n",
    "    model.compile(\n",
    "        optimizer=Adam(learning_rate=hp.Choice(\"learning_rate\", [0.001, 0.0005, 0.0001])),\n",
    "        loss=\"mse\",\n",
    "        metrics=[\"mae\"]\n",
    "    )\n",
    "    return model"
   ]
  },
  {
   "cell_type": "code",
   "execution_count": 26,
   "metadata": {},
   "outputs": [],
   "source": [
    "# --- HUẤN LUYỆN MÔ HÌNH ---\n",
    "def train_lstm(X_train, y_train, X_test, y_test, seq_length, model_path, project_name):\n",
    "    tuner = kt.RandomSearch(\n",
    "        lambda hp: build_lstm_model(hp, seq_length),\n",
    "        objective=\"val_loss\",\n",
    "        max_trials=10,\n",
    "        executions_per_trial=2,\n",
    "        directory=r\"C:\\Users\\DELL\\Downloads\\eur-vnd-exchange-rate\\models\",\n",
    "        project_name=project_name\n",
    "    )\n",
    "\n",
    "    early_stopping = EarlyStopping(monitor=\"val_loss\", patience=10, restore_best_weights=True)\n",
    "    model_checkpoint = ModelCheckpoint(model_path, save_best_only=True)\n",
    "\n",
    "    tuner.search(X_train, y_train,\n",
    "                 epochs=100,\n",
    "                 batch_size=32,\n",
    "                 validation_data=(X_test, y_test),\n",
    "                 callbacks=[early_stopping, model_checkpoint])\n",
    "\n",
    "    return tuner.get_best_hyperparameters(num_trials=1)[0]"
   ]
  },
  {
   "cell_type": "code",
   "execution_count": 27,
   "metadata": {},
   "outputs": [],
   "source": [
    "import shutil\n",
    "import os\n",
    "\n",
    "tuner_dir = r\"C:\\Users\\DELL\\Downloads\\eur-vnd-exchange-rate\\models\\LSTM\"\n",
    "\n",
    "if os.path.exists(tuner_dir):\n",
    "    shutil.rmtree(tuner_dir)"
   ]
  },
  {
   "cell_type": "code",
   "execution_count": null,
   "metadata": {},
   "outputs": [
    {
     "name": "stdout",
     "output_type": "stream",
     "text": [
      "Trial 1 Complete [00h 03m 28s]\n",
      "val_loss: 0.0006256494671106339\n",
      "\n",
      "Best val_loss So Far: 0.0006256494671106339\n",
      "Total elapsed time: 00h 03m 28s\n",
      "\n",
      "Search: Running Trial #2\n",
      "\n",
      "Value             |Best Value So Far |Hyperparameter\n",
      "128               |96                |lstm_units_2\n",
      "0.01              |0.001             |l2_reg\n",
      "0.2               |0.2               |dropout_2\n",
      "64                |16                |dense_units\n",
      "0.0005            |0.001             |learning_rate\n",
      "\n",
      "Epoch 1/100\n",
      "\u001b[1m44/45\u001b[0m \u001b[32m━━━━━━━━━━━━━━━━━━━\u001b[0m\u001b[37m━\u001b[0m \u001b[1m0s\u001b[0m 42ms/step - loss: 0.2093 - mae: 0.3582"
     ]
    }
   ],
   "source": [
    "best_hp = train_lstm(\n",
    "    X_train, y_train,\n",
    "    X_test, y_test,\n",
    "    seq_length=30,\n",
    "    model_path=r\"D:\\eur-vnd-exchange-rate\\models\\LSTM\\best_lstm.h5\",\n",
    "    project_name=\"LSTM\"\n",
    ")"
   ]
  },
  {
   "cell_type": "code",
   "execution_count": null,
   "metadata": {},
   "outputs": [],
   "source": [
    "best_hp.values"
   ]
  },
  {
   "cell_type": "markdown",
   "metadata": {},
   "source": [
    "# **Đánh giá mô hình**"
   ]
  },
  {
   "cell_type": "code",
   "execution_count": null,
   "metadata": {},
   "outputs": [],
   "source": [
    "best_model = load_model(r\"C:\\Users\\DELL\\Downloads\\eur-vnd-exchange-rate\\models\\LSTM\\best_lstm.h5\", compile=False)\n",
    "y_pred = best_model.predict(X_test).flatten()\n",
    "\n",
    "# Inverse transform về giá gốc\n",
    "y_test_actual = scaler.inverse_transform(y_test.reshape(-1,1)).flatten()\n",
    "y_pred_actual = scaler.inverse_transform(y_pred.reshape(-1,1)).flatten()\n",
    "\n",
    "# Metrics\n",
    "mae = mean_absolute_error(y_test_actual, y_pred_actual)\n",
    "mse = mean_squared_error(y_test_actual, y_pred_actual)\n",
    "rmse = np.sqrt(mse)\n",
    "mape = mean_absolute_percentage_error(y_test_actual, y_pred_actual)\n",
    "\n",
    "print(f\"MAE: {mae}\")\n",
    "print(f\"MSE: {mse}\")\n",
    "print(f\"RMSE: {rmse}\")\n",
    "print(f\"MAPE: {mape}\")"
   ]
  },
  {
   "cell_type": "markdown",
   "metadata": {},
   "source": [
    "# **Thực tế và dự đoán**"
   ]
  },
  {
   "cell_type": "code",
   "execution_count": null,
   "metadata": {},
   "outputs": [],
   "source": [
    "plt.figure(figsize=(15,5))\n",
    "plt.plot(time_test, y_test_actual, label=\"Thực tế\")\n",
    "plt.plot(time_test, y_pred_actual, label=\"Dự đoán\")\n",
    "plt.legend()\n",
    "plt.title(\"So sánh thực tế vs dự đoán trên tập Test\")\n",
    "plt.xticks(rotation=45)\n",
    "plt.grid(True)\n",
    "plt.tight_layout()\n",
    "plt.show()"
   ]
  },
  {
   "cell_type": "markdown",
   "metadata": {},
   "source": [
    "# **Dự đoán 30 ngày tiếp theo**"
   ]
  },
  {
   "cell_type": "code",
   "execution_count": null,
   "metadata": {},
   "outputs": [],
   "source": [
    "last_sequence = values[-seq_length:].reshape(1, seq_length, 1).astype(np.float32)\n",
    "\n",
    "future_preds = []\n",
    "input_seq = last_sequence.copy()\n",
    "\n",
    "for _ in range(30):\n",
    "    next_pred = best_model.predict(input_seq, verbose=0)[0][0]\n",
    "    future_preds.append(next_pred)\n",
    "    input_seq = np.append(input_seq[:, 1:, :], [[[next_pred]]], axis=1)\n",
    "\n",
    "# Chuyển dự đoán về giá gốc\n",
    "future_preds_actual = scaler.inverse_transform(np.array(future_preds).reshape(-1, 1)).flatten()\n",
    "\n",
    "last_date = df_scaled.index[-1]\n",
    "future_dates = [last_date + pd.Timedelta(days=i) for i in range(1, 31)]\n",
    "\n",
    "# Biểu đồ dự đoán 30 ngày\n",
    "plt.figure(figsize=(15,5))\n",
    "plt.plot(df_scaled.index[-100:], scaler.inverse_transform(values[-100:].reshape(-1,1)), label=\"Tỷ giá thực tế (100 ngày gần nhất)\", color=\"blue\")\n",
    "plt.plot(future_dates, future_preds_actual, label=\"Dự đoán 30 ngày tiếp theo\", color=\"red\", linestyle=\"--\")\n",
    "plt.legend()\n",
    "plt.title(\"Dự đoán tỷ giá EUR/VND cho 30 ngày tiếp theo\")\n",
    "plt.xticks(rotation=45)\n",
    "plt.grid(True)\n",
    "plt.tight_layout()\n",
    "plt.show()"
   ]
  }
 ],
 "metadata": {
  "kernelspec": {
   "display_name": "Python 3",
   "language": "python",
   "name": "python3"
  },
  "language_info": {
   "codemirror_mode": {
    "name": "ipython",
    "version": 3
   },
   "file_extension": ".py",
   "mimetype": "text/x-python",
   "name": "python",
   "nbconvert_exporter": "python",
   "pygments_lexer": "ipython3",
   "version": "3.12.5"
  }
 },
 "nbformat": 4,
 "nbformat_minor": 2
}
